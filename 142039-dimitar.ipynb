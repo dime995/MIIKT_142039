{
 "cells": [
  {
   "cell_type": "markdown",
   "metadata": {
    "kernel": "SoS"
   },
   "source": [
    "# Домашна работа по предметот Методологија на истражувањето во икт"
   ]
  },
  {
   "cell_type": "markdown",
   "metadata": {
    "kernel": "SoS"
   },
   "source": [
    "#### Индекс: 142039\n",
    "#### Име: Димитар\n",
    "#### Презиме: Димишков"
   ]
  },
  {
   "cell_type": "markdown",
   "metadata": {},
   "source": [
    "#### За да филтрираме слика во фреквенциски домен потребно е да ја помножиме сликата во фреквенциски домен со филтерот (кернел) кој е исто така во фреквенциски домен.\n",
    " \\begin{equation} I_{f,filt} = HI_f \\end{equation}\n",
    " \n",
    "####  За таа цел потребно е да се вметне Octave функција која ќе креира “Band pass gaussian filter” во фреквенциски домен. Bandpass гаусовиот филтер во фреквенциски домен е дефиниран со равенката:\n",
    "\n",
    "\\begin{equation} H(i,j) = e^{\\frac{d(i,j)^2}{f_h^2}} (1 - e^{\\frac{d(i,j)^2}{f_l^2}}) \\end{equation}\n",
    "\n",
    "#### Каде што 𝑑(𝑖,𝑗) е евклидовото растојанието на даден пиксел од центарот на сликата, додека 𝑓ℎ и 𝑓𝑙 се праговите на високите и ниските фреквенции кои сакаме\n",
    "да ги филтрираме.\n",
    "\n",
    "#### Конверзија на 2D сликата од просторен во фреквенциски домен се прави со користење на Фуриева трансформација. Фуриевата трансформација е дефинирана\n",
    "како:\n",
    "\n",
    "\\begin{equation} F(u,v) = \\iint \\limits_{-\\infty}^{\\infty} f(x,y)e^{-i2\\pi(ux+vy)}dxdy   \\end{equation}\n",
    "\n",
    "#### А во дискретниот домен горната равенка може да биде преведена како:\n",
    "\n",
    "\\begin{equation} F(u,v) = \\mathop{\\sum_{m=-\\infty}^{\\infty}\\sum_{n=-\\infty}^{\\infty}} f[m,n]\\cdot e^{-i2\\pi(ux+vy)}dudv                          \\end{equation}\n",
    "\n",
    "#### Конверзија на 2D сликата од фреквенциски во просторен домен се прави со користење на инверзна Фуриева трансформација. Инверзната Фуриева\n",
    "трансформација е дефинирана како:\n",
    "\n",
    "\\begin{equation} F(x,y) = \\iint \\limits_{-\\infty}^{\\infty} f(u,v) e^{-i2\\pi(ux+vy)}dudv   \\end{equation}\n",
    "\n",
    "#### А во дискретниот домен горната равенка може да биде преведена како:\n",
    "\n",
    "\\begin{equation} F(x,y) = \\mathop{\\sum_{m=-\\infty}^{\\infty}\\sum_{n=-\\infty}^{\\infty}} f[m,n] \\cdot e^{-i2\\pi(xmu_0+ynv_0)}                        \\end{equation}\n"
   ]
  },
  {
   "cell_type": "markdown",
   "metadata": {
    "kernel": "SoS"
   },
   "source": [
    "#### <p> Целите на оваа домашна е се искористат Фуриеви Трансформации на слики користејки го OpenCV - package во JupyterNotebook и да можеме да искористиме FastFourierTransform(FFT). Ке ги искористиме 2те функции кои ги нуди пакетот OpenCV , односно cv.dft() и cv.idft() </p>\n",
    "\n",
    "#### Фуриевите Трансформации се користат за да се анализираат фрекфентните карактеристики на различни филтри. За слики , се користи 2D DFT и таа се користи за да се најдат фрекфентните домени. FFT алгоритамот се користи за калкулациите што ги користи DFT(cv.dft())."
   ]
  }
 ],
 "metadata": {
  "kernelspec": {
   "display_name": "Python 3",
   "language": "python",
   "name": "python3"
  },
  "language_info": {
   "codemirror_mode": {
    "name": "ipython",
    "version": 3
   },
   "file_extension": ".py",
   "mimetype": "text/x-python",
   "name": "python",
   "nbconvert_exporter": "python",
   "pygments_lexer": "ipython3",
   "version": "3.7.4"
  },
  "sos": {
   "kernels": [
    [
     "Python3",
     "python3",
     "Python3",
     "#FFD91A",
     {
      "name": "ipython",
      "version": 3
     }
    ],
    [
     "SoS",
     "sos",
     "",
     "",
     "sos"
    ]
   ],
   "panel": {
    "displayed": true,
    "height": 0
   },
   "version": "0.21.0"
  }
 },
 "nbformat": 4,
 "nbformat_minor": 2
}
